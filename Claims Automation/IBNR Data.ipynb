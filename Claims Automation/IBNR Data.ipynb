{
 "cells": [
  {
   "cell_type": "markdown",
   "metadata": {},
   "source": [
    "**Code to extract data from Medical Expense and put it in a format suitable for IBNR**\n",
    "\n",
    "* Output will have Paid Month, Service Month, and the total amount.\n",
    "* There are two options.\n",
    "    * The second cell is for individual months.\n",
    "    * The third cell is for the entire folder (will take a few seconds more)"
   ]
  },
  {
   "cell_type": "code",
   "execution_count": null,
   "metadata": {},
   "outputs": [],
   "source": [
    "#Import dependencies\n",
    "import pandas as pd\n",
    "import os\n",
    "from FilePath import Data_Med_Path, Out_IBNR_Path"
   ]
  },
  {
   "cell_type": "code",
   "execution_count": null,
   "metadata": {},
   "outputs": [],
   "source": [
    "#Run this code for individual file. Ask for input of file name\n",
    "filemonth = input(\"What is the file month? ex: 201801 \")\n",
    "\n",
    "#Specify and import data file as data frame: med\n",
    "med_path = os.path.join(Data_Med_Path + filemonth + \".txt\")\n",
    "med = pd.read_csv(med_path,delimiter=\"|\",dtype={'CLAIM_ID':float,'ICD_DIAG_22_POA':str,'ICD_DIAG_25_POA':str,'ICD_PROC_03':str,\n",
    "                                                'ICD_PROC_04':str,'ICD_PROC_05':str,'ICD_PROC_06':str,'ICD_PROC_07':str,\n",
    "                                                'ICD_PROC_08':str,'ICD_PROC_09':str,'ICD_PROC_10':str,'ICD_PROC_11':str,\n",
    "                                                'ICD_PROC_12':str,'ICD_PROC_13':str,'ICD_PROC_14':str})\n",
    "med.head()"
   ]
  },
  {
   "cell_type": "code",
   "execution_count": null,
   "metadata": {},
   "outputs": [],
   "source": [
    "#Run this code for all files. Ask for how many files\n",
    "index = ['201801', '201802', '201803', '201804', '201805', '201806', '201807', '201808', '201809', '201810', '201811', '201812']\n",
    "filemonth = int(input(\"How many files are there? \"))\n",
    "\n",
    "#Specify and import data file as data frame: med\n",
    "for x in range(filemonth):\n",
    "    med_path = os.path.join(Data_Med_Path + index[x] + \".txt\")\n",
    "    med_small = pd.read_csv(med_path,delimiter=\"|\",dtype={'CLAIM_ID':float,'ICD_DIAG_22_POA':str,'ICD_DIAG_25_POA':str,\n",
    "                                                          'ICD_PROC_03':str,'ICD_PROC_04':str,'ICD_PROC_05':str,'ICD_PROC_06':str,\n",
    "                                                          'ICD_PROC_07':str,'ICD_PROC_08':str,'ICD_PROC_09':str,'ICD_PROC_10':str,\n",
    "                                                          'ICD_PROC_11':str,'ICD_PROC_12':str,'ICD_PROC_13':str,'ICD_PROC_14':str})\n",
    "    med = med.merge(med_small, how='outer')\n",
    "med.head()"
   ]
  },
  {
   "cell_type": "code",
   "execution_count": null,
   "metadata": {
    "scrolled": true
   },
   "outputs": [],
   "source": [
    "#Store relevant columns into a smaller data frame called med_small\n",
    "med_small = med[[\"CLAIM_ID\", \"FROM_DATE\", \"TO_DATE\", \"PAID_DATE\", \"BILL_PROV_NAME\", \"AMT_PAID\", \"POS\", \"REV_CODE\", \"PROC_CODE\"]]\n",
    "med_small.head(5)"
   ]
  },
  {
   "cell_type": "code",
   "execution_count": null,
   "metadata": {},
   "outputs": [],
   "source": [
    "#Convert From_Date to Service_Month and Paid_Date to Paid_Month\n",
    "med_small_date = pd.DataFrame(med_small)\n",
    "med_small_date['FROM_YEAR'] = pd.DatetimeIndex(med_small['FROM_DATE']).year * 100\n",
    "med_small_date['SERVICE_MONTH'] = pd.DatetimeIndex(med_small['FROM_DATE']).month + med_small_date['FROM_YEAR']\n",
    "med_small_date['PAID_YEAR'] = pd.DatetimeIndex(med_small['PAID_DATE']).year * 100\n",
    "med_small_date['PAID_MONTH'] = pd.DatetimeIndex(med_small['PAID_DATE']).month + med_small_date['PAID_YEAR']\n",
    "\n",
    "#Drop year after calculation is finished, axis specified as 1 in order to call to series names\n",
    "med_small_date = med_small_date.drop([\"FROM_YEAR\", \"PAID_YEAR\"], axis=1)\n",
    "\n",
    "med_small_date.head()"
   ]
  },
  {
   "cell_type": "code",
   "execution_count": null,
   "metadata": {},
   "outputs": [],
   "source": [
    "#Group By Month and Year and show total paid\n",
    "by_month = med_small_date.groupby([\"PAID_MONTH\",\"SERVICE_MONTH\"])\n",
    "ibnr_frame = pd.DataFrame(by_month.sum()[\"AMT_PAID\"])\n",
    "ibnr_frame"
   ]
  },
  {
   "cell_type": "code",
   "execution_count": null,
   "metadata": {},
   "outputs": [],
   "source": [
    "#Store the output dataframe.\n",
    "if int(filemonth) < 20:\n",
    "    ibnr_frame.to_excel(Out_IBNR_Path + \"IBNR - All Up to \" + index[filemonth-1] + \".xlsx\")\n",
    "else:\n",
    "    ibnr_frame.to_excel(Out_IBNR_Path + \"IBNR - \" + str(filemonth) + \".xlsx\")"
   ]
  },
  {
   "cell_type": "code",
   "execution_count": null,
   "metadata": {},
   "outputs": [],
   "source": []
  }
 ],
 "metadata": {
  "kernelspec": {
   "display_name": "Python 3",
   "language": "python",
   "name": "python3"
  },
  "language_info": {
   "codemirror_mode": {
    "name": "ipython",
    "version": 3
   },
   "file_extension": ".py",
   "mimetype": "text/x-python",
   "name": "python",
   "nbconvert_exporter": "python",
   "pygments_lexer": "ipython3",
   "version": "3.6.4"
  }
 },
 "nbformat": 4,
 "nbformat_minor": 2
}
