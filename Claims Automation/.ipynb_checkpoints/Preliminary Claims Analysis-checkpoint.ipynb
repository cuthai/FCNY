{
 "cells": [
  {
   "cell_type": "code",
   "execution_count": null,
   "metadata": {},
   "outputs": [],
   "source": [
    "#Import dependencies\n",
    "import pandas as pd\n",
    "import os"
   ]
  },
  {
   "cell_type": "code",
   "execution_count": null,
   "metadata": {},
   "outputs": [],
   "source": [
    "#Specify and import data file as data frame: june_med\n",
    "med_path = os.path.join(\"..\", \"..\", \"2018_7_30_IHAFCNY_Medical_Claims_20180720.txt.txt\")\n",
    "med = pd.read_csv(med_path,delimiter=\"|\",dtype={'CLAIM_ID':float,'ICD_DIAG_22_POA':str,'ICD_DIAG_25_POA':str,'ICD_PROC_03':str,\n",
    "                                                 'ICD_PROC_04':str,'ICD_PROC_05':str,'ICD_PROC_06':str,'ICD_PROC_07':str,\n",
    "                                                 'ICD_PROC_08':str,'ICD_PROC_09':str,'ICD_PROC_10':str,'ICD_PROC_11':str,\n",
    "                                                 'ICD_PROC_12':str,'ICD_PROC_13':str,'ICD_PROC_14':str})\n",
    "med.head()"
   ]
  },
  {
   "cell_type": "code",
   "execution_count": null,
   "metadata": {},
   "outputs": [],
   "source": [
    "#Store relevant columns into a smaller data frame called june_med_small\n",
    "med_small = med[[\"CLAIM_ID\", \"FROM_DATE\", \"TO_DATE\", \"PAID_DATE\", \"BILL_PROV_NAME\", \"AMT_PAID\", \"POS\", \"REV_CODE\", \"PROC_CODE\"]]\n",
    "med_small.head(5)"
   ]
  },
  {
   "cell_type": "code",
   "execution_count": null,
   "metadata": {},
   "outputs": [],
   "source": [
    "#Convert From_Date to Service_Month and Paid_Date to Paid_Month\n",
    "med_small_date = pd.DataFrame(med_small)\n",
    "med_small_date['FROM_YEAR'] = pd.DatetimeIndex(med_small['FROM_DATE']).year * 100\n",
    "med_small_date['SERVICE_MONTH'] = pd.DatetimeIndex(med_small['FROM_DATE']).month + med_small_date['FROM_YEAR']\n",
    "med_small_date['PAID_YEAR'] = pd.DatetimeIndex(med_small['PAID_DATE']).year * 100\n",
    "med_small_date['PAID_MONTH'] = pd.DatetimeIndex(med_small['PAID_DATE']).month + med_small_date['PAID_YEAR']\n",
    "\n",
    "#Drop year after calculation is finished\n",
    "med_small_date = med_small_date.drop([\"FROM_YEAR\", \"PAID_YEAR\"], axis=1)\n",
    "\n",
    "med_small_date.head()"
   ]
  },
  {
   "cell_type": "code",
   "execution_count": null,
   "metadata": {},
   "outputs": [],
   "source": [
    "#Group By Month and Year and show total paid\n",
    "by_month = med_small_date.groupby([\"SERVICE_MONTH\"])\n",
    "by_month_frame = pd.DataFrame(by_month.sum()[\"AMT_PAID\"])\n",
    "by_month_frame"
   ]
  },
  {
   "cell_type": "code",
   "execution_count": null,
   "metadata": {},
   "outputs": [],
   "source": [
    "#Group By Month and Year and POS and show total paid\n",
    "by_month_pos = med_small_date.groupby([\"SERVICE_MONTH\", \"POS\"])\n",
    "by_month_pos_frame = pd.DataFrame(by_month_pos.sum()[\"AMT_PAID\"])\n",
    "by_month_pos_frame.head(109)"
   ]
  },
  {
   "cell_type": "code",
   "execution_count": null,
   "metadata": {},
   "outputs": [],
   "source": [
    "by_month_pos_frame.to_excel(\"test.xlsx\")"
   ]
  },
  {
   "cell_type": "code",
   "execution_count": null,
   "metadata": {},
   "outputs": [],
   "source": []
  }
 ],
 "metadata": {
  "kernelspec": {
   "display_name": "Python 3",
   "language": "python",
   "name": "python3"
  },
  "language_info": {
   "codemirror_mode": {
    "name": "ipython",
    "version": 3
   },
   "file_extension": ".py",
   "mimetype": "text/x-python",
   "name": "python",
   "nbconvert_exporter": "python",
   "pygments_lexer": "ipython3",
   "version": "3.6.4"
  }
 },
 "nbformat": 4,
 "nbformat_minor": 2
}
